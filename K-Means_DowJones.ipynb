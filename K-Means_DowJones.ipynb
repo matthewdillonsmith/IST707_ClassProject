{
 "cells": [
  {
   "cell_type": "markdown",
   "id": "8867c65c",
   "metadata": {},
   "source": [
    "### K-Means Clusterinf for Portfolio Diversification"
   ]
  },
  {
   "cell_type": "code",
   "execution_count": 85,
   "id": "00cbe3aa",
   "metadata": {},
   "outputs": [],
   "source": [
    "import pandas as pd\n",
    "import numpy as np\n",
    "import glob\n",
    "import matplotlib.pyplot as plt\n",
    "from sklearn.cluster import KMeans\n",
    "plt.style.use('fivethirtyeight')"
   ]
  },
  {
   "cell_type": "code",
   "execution_count": 116,
   "id": "a957b14d",
   "metadata": {},
   "outputs": [],
   "source": [
    "files = glob.glob(\"./csv_dowjones/*csv\")"
   ]
  },
  {
   "cell_type": "code",
   "execution_count": 117,
   "id": "2c547da1",
   "metadata": {},
   "outputs": [
    {
     "data": {
      "text/plain": [
       "['./csv_dowjones\\\\AAPL.csv',\n",
       " './csv_dowjones\\\\AXP.csv',\n",
       " './csv_dowjones\\\\BA.csv',\n",
       " './csv_dowjones\\\\CAT.csv',\n",
       " './csv_dowjones\\\\CSCO.csv',\n",
       " './csv_dowjones\\\\CVX.csv',\n",
       " './csv_dowjones\\\\DIS.csv',\n",
       " './csv_dowjones\\\\DWDP.csv',\n",
       " './csv_dowjones\\\\GS.csv',\n",
       " './csv_dowjones\\\\HD.csv',\n",
       " './csv_dowjones\\\\IBM.csv',\n",
       " './csv_dowjones\\\\INTC.csv',\n",
       " './csv_dowjones\\\\JNJ.csv',\n",
       " './csv_dowjones\\\\JPM.csv',\n",
       " './csv_dowjones\\\\KO.csv',\n",
       " './csv_dowjones\\\\MCD.csv',\n",
       " './csv_dowjones\\\\MMM.csv',\n",
       " './csv_dowjones\\\\MRK.csv',\n",
       " './csv_dowjones\\\\MSFT.csv',\n",
       " './csv_dowjones\\\\NKE.csv',\n",
       " './csv_dowjones\\\\PFE.csv',\n",
       " './csv_dowjones\\\\PG.csv',\n",
       " './csv_dowjones\\\\TRV.csv',\n",
       " './csv_dowjones\\\\UNH.csv',\n",
       " './csv_dowjones\\\\UTX.csv',\n",
       " './csv_dowjones\\\\V.csv',\n",
       " './csv_dowjones\\\\VZ.csv',\n",
       " './csv_dowjones\\\\WBA.csv',\n",
       " './csv_dowjones\\\\WMT.csv',\n",
       " './csv_dowjones\\\\XOM.csv']"
      ]
     },
     "execution_count": 117,
     "metadata": {},
     "output_type": "execute_result"
    }
   ],
   "source": [
    "files"
   ]
  },
  {
   "cell_type": "code",
   "execution_count": 118,
   "id": "6e9ed555",
   "metadata": {},
   "outputs": [],
   "source": [
    "import os\n",
    "import pandas as pd\n",
    "\n",
    "# Create an empty list to hold the data frames\n",
    "data_frames = []\n",
    "\n",
    "# Loop through the list of file names\n",
    "for filename in files:\n",
    "    try:\n",
    "        # Read the CSV file into a data frame, skipping any rows with errors\n",
    "        df = pd.read_csv(filename, index_col=None, header=0, on_bad_lines='skip')\n",
    "        # Add a new column to the data frame with the file name\n",
    "        df['filename'] = os.path.basename(filename)\n",
    "        # Append the data frame to the list\n",
    "        data_frames.append(df)\n",
    "    except pd.errors.ParserError as e:\n",
    "        print(f\"Error parsing {filename}: {e}\")\n",
    "\n",
    "# Combine the data frames into a single data frame\n",
    "combined_df = pd.concat(data_frames, ignore_index=True)\n",
    "\n",
    "# Set the index to the 'filename' column\n",
    "combined_df.set_index('filename', inplace=True)\n",
    "\n"
   ]
  },
  {
   "cell_type": "code",
   "execution_count": 119,
   "id": "7a0e9aa7",
   "metadata": {},
   "outputs": [
    {
     "data": {
      "text/html": [
       "<div>\n",
       "<style scoped>\n",
       "    .dataframe tbody tr th:only-of-type {\n",
       "        vertical-align: middle;\n",
       "    }\n",
       "\n",
       "    .dataframe tbody tr th {\n",
       "        vertical-align: top;\n",
       "    }\n",
       "\n",
       "    .dataframe thead th {\n",
       "        text-align: right;\n",
       "    }\n",
       "</style>\n",
       "<table border=\"1\" class=\"dataframe\">\n",
       "  <thead>\n",
       "    <tr style=\"text-align: right;\">\n",
       "      <th></th>\n",
       "      <th>date</th>\n",
       "      <th>open</th>\n",
       "      <th>high</th>\n",
       "      <th>low</th>\n",
       "      <th>close</th>\n",
       "      <th>volume</th>\n",
       "      <th>unadjustedVolume</th>\n",
       "      <th>change</th>\n",
       "      <th>changePercent</th>\n",
       "      <th>vwap</th>\n",
       "      <th>label</th>\n",
       "      <th>changeOverTime</th>\n",
       "    </tr>\n",
       "    <tr>\n",
       "      <th>filename</th>\n",
       "      <th></th>\n",
       "      <th></th>\n",
       "      <th></th>\n",
       "      <th></th>\n",
       "      <th></th>\n",
       "      <th></th>\n",
       "      <th></th>\n",
       "      <th></th>\n",
       "      <th></th>\n",
       "      <th></th>\n",
       "      <th></th>\n",
       "      <th></th>\n",
       "    </tr>\n",
       "  </thead>\n",
       "  <tbody>\n",
       "    <tr>\n",
       "      <th>AAPL.csv</th>\n",
       "      <td>2014-02-21</td>\n",
       "      <td>69.9727</td>\n",
       "      <td>70.2061</td>\n",
       "      <td>68.8967</td>\n",
       "      <td>68.9821</td>\n",
       "      <td>69757247</td>\n",
       "      <td>9965321</td>\n",
       "      <td>-0.774858</td>\n",
       "      <td>-1.111</td>\n",
       "      <td>69.4256</td>\n",
       "      <td>Feb 21, 14</td>\n",
       "      <td>0.000000</td>\n",
       "    </tr>\n",
       "    <tr>\n",
       "      <th>AAPL.csv</th>\n",
       "      <td>2014-02-24</td>\n",
       "      <td>68.7063</td>\n",
       "      <td>69.5954</td>\n",
       "      <td>68.6104</td>\n",
       "      <td>69.2841</td>\n",
       "      <td>72364950</td>\n",
       "      <td>10337850</td>\n",
       "      <td>0.302061</td>\n",
       "      <td>0.438</td>\n",
       "      <td>69.1567</td>\n",
       "      <td>Feb 24, 14</td>\n",
       "      <td>0.004378</td>\n",
       "    </tr>\n",
       "    <tr>\n",
       "      <th>AAPL.csv</th>\n",
       "      <td>2014-02-25</td>\n",
       "      <td>69.5245</td>\n",
       "      <td>69.5488</td>\n",
       "      <td>68.4239</td>\n",
       "      <td>68.5631</td>\n",
       "      <td>58247350</td>\n",
       "      <td>8321050</td>\n",
       "      <td>-0.721010</td>\n",
       "      <td>-1.041</td>\n",
       "      <td>68.9153</td>\n",
       "      <td>Feb 25, 14</td>\n",
       "      <td>-0.006074</td>\n",
       "    </tr>\n",
       "    <tr>\n",
       "      <th>AAPL.csv</th>\n",
       "      <td>2014-02-26</td>\n",
       "      <td>68.7667</td>\n",
       "      <td>68.9492</td>\n",
       "      <td>67.7147</td>\n",
       "      <td>67.9446</td>\n",
       "      <td>69131286</td>\n",
       "      <td>9875898</td>\n",
       "      <td>-0.618575</td>\n",
       "      <td>-0.902</td>\n",
       "      <td>68.1373</td>\n",
       "      <td>Feb 26, 14</td>\n",
       "      <td>-0.015040</td>\n",
       "    </tr>\n",
       "    <tr>\n",
       "      <th>AAPL.csv</th>\n",
       "      <td>2014-02-27</td>\n",
       "      <td>67.9170</td>\n",
       "      <td>69.4457</td>\n",
       "      <td>67.7738</td>\n",
       "      <td>69.2999</td>\n",
       "      <td>75557321</td>\n",
       "      <td>10793903</td>\n",
       "      <td>1.355300</td>\n",
       "      <td>1.995</td>\n",
       "      <td>68.8615</td>\n",
       "      <td>Feb 27, 14</td>\n",
       "      <td>0.004607</td>\n",
       "    </tr>\n",
       "  </tbody>\n",
       "</table>\n",
       "</div>"
      ],
      "text/plain": [
       "                date     open     high      low    close    volume  \\\n",
       "filename                                                             \n",
       "AAPL.csv  2014-02-21  69.9727  70.2061  68.8967  68.9821  69757247   \n",
       "AAPL.csv  2014-02-24  68.7063  69.5954  68.6104  69.2841  72364950   \n",
       "AAPL.csv  2014-02-25  69.5245  69.5488  68.4239  68.5631  58247350   \n",
       "AAPL.csv  2014-02-26  68.7667  68.9492  67.7147  67.9446  69131286   \n",
       "AAPL.csv  2014-02-27  67.9170  69.4457  67.7738  69.2999  75557321   \n",
       "\n",
       "          unadjustedVolume    change  changePercent     vwap       label  \\\n",
       "filename                                                                   \n",
       "AAPL.csv           9965321 -0.774858         -1.111  69.4256  Feb 21, 14   \n",
       "AAPL.csv          10337850  0.302061          0.438  69.1567  Feb 24, 14   \n",
       "AAPL.csv           8321050 -0.721010         -1.041  68.9153  Feb 25, 14   \n",
       "AAPL.csv           9875898 -0.618575         -0.902  68.1373  Feb 26, 14   \n",
       "AAPL.csv          10793903  1.355300          1.995  68.8615  Feb 27, 14   \n",
       "\n",
       "          changeOverTime  \n",
       "filename                  \n",
       "AAPL.csv        0.000000  \n",
       "AAPL.csv        0.004378  \n",
       "AAPL.csv       -0.006074  \n",
       "AAPL.csv       -0.015040  \n",
       "AAPL.csv        0.004607  "
      ]
     },
     "execution_count": 119,
     "metadata": {},
     "output_type": "execute_result"
    }
   ],
   "source": [
    "combined_df.head()"
   ]
  },
  {
   "cell_type": "code",
   "execution_count": 120,
   "id": "e70ed0ed",
   "metadata": {},
   "outputs": [
    {
     "name": "stdout",
     "output_type": "stream",
     "text": [
      "<class 'pandas.core.frame.DataFrame'>\n",
      "Index: 36850 entries, AAPL.csv to XOM.csv\n",
      "Data columns (total 12 columns):\n",
      " #   Column            Non-Null Count  Dtype  \n",
      "---  ------            --------------  -----  \n",
      " 0   date              36850 non-null  object \n",
      " 1   open              36850 non-null  float64\n",
      " 2   high              36850 non-null  float64\n",
      " 3   low               36850 non-null  float64\n",
      " 4   close             36850 non-null  float64\n",
      " 5   volume            36850 non-null  int64  \n",
      " 6   unadjustedVolume  36850 non-null  int64  \n",
      " 7   change            36850 non-null  float64\n",
      " 8   changePercent     36850 non-null  float64\n",
      " 9   vwap              36850 non-null  float64\n",
      " 10  label             36850 non-null  object \n",
      " 11  changeOverTime    36850 non-null  float64\n",
      "dtypes: float64(8), int64(2), object(2)\n",
      "memory usage: 3.7+ MB\n"
     ]
    }
   ],
   "source": [
    "combined_df.info() #checking for number of rows and columns"
   ]
  },
  {
   "cell_type": "code",
   "execution_count": 121,
   "id": "210b1848",
   "metadata": {},
   "outputs": [
    {
     "data": {
      "text/plain": [
       "date                0\n",
       "open                0\n",
       "high                0\n",
       "low                 0\n",
       "close               0\n",
       "volume              0\n",
       "unadjustedVolume    0\n",
       "change              0\n",
       "changePercent       0\n",
       "vwap                0\n",
       "label               0\n",
       "changeOverTime      0\n",
       "dtype: int64"
      ]
     },
     "execution_count": 121,
     "metadata": {},
     "output_type": "execute_result"
    }
   ],
   "source": [
    "combined_df.isna().sum() # checking for missing values"
   ]
  },
  {
   "cell_type": "code",
   "execution_count": 122,
   "id": "683ba771",
   "metadata": {},
   "outputs": [
    {
     "data": {
      "text/html": [
       "<div>\n",
       "<style scoped>\n",
       "    .dataframe tbody tr th:only-of-type {\n",
       "        vertical-align: middle;\n",
       "    }\n",
       "\n",
       "    .dataframe tbody tr th {\n",
       "        vertical-align: top;\n",
       "    }\n",
       "\n",
       "    .dataframe thead th {\n",
       "        text-align: right;\n",
       "    }\n",
       "</style>\n",
       "<table border=\"1\" class=\"dataframe\">\n",
       "  <thead>\n",
       "    <tr style=\"text-align: right;\">\n",
       "      <th></th>\n",
       "      <th>date</th>\n",
       "      <th>open</th>\n",
       "      <th>high</th>\n",
       "      <th>low</th>\n",
       "      <th>close</th>\n",
       "      <th>volume</th>\n",
       "      <th>unadjustedVolume</th>\n",
       "      <th>change</th>\n",
       "      <th>changePercent</th>\n",
       "      <th>vwap</th>\n",
       "      <th>label</th>\n",
       "      <th>changeOverTime</th>\n",
       "      <th>pct_change</th>\n",
       "      <th>mean_return</th>\n",
       "      <th>variance</th>\n",
       "    </tr>\n",
       "    <tr>\n",
       "      <th>filename</th>\n",
       "      <th></th>\n",
       "      <th></th>\n",
       "      <th></th>\n",
       "      <th></th>\n",
       "      <th></th>\n",
       "      <th></th>\n",
       "      <th></th>\n",
       "      <th></th>\n",
       "      <th></th>\n",
       "      <th></th>\n",
       "      <th></th>\n",
       "      <th></th>\n",
       "      <th></th>\n",
       "      <th></th>\n",
       "      <th></th>\n",
       "    </tr>\n",
       "  </thead>\n",
       "  <tbody>\n",
       "    <tr>\n",
       "      <th>AAPL.csv</th>\n",
       "      <td>2014-02-21</td>\n",
       "      <td>69.9727</td>\n",
       "      <td>70.2061</td>\n",
       "      <td>68.8967</td>\n",
       "      <td>68.9821</td>\n",
       "      <td>69757247</td>\n",
       "      <td>9965321</td>\n",
       "      <td>-0.774858</td>\n",
       "      <td>-1.111</td>\n",
       "      <td>69.4256</td>\n",
       "      <td>Feb 21, 14</td>\n",
       "      <td>0.000000</td>\n",
       "      <td>NaN</td>\n",
       "      <td>NaN</td>\n",
       "      <td>NaN</td>\n",
       "    </tr>\n",
       "    <tr>\n",
       "      <th>AAPL.csv</th>\n",
       "      <td>2014-02-24</td>\n",
       "      <td>68.7063</td>\n",
       "      <td>69.5954</td>\n",
       "      <td>68.6104</td>\n",
       "      <td>69.2841</td>\n",
       "      <td>72364950</td>\n",
       "      <td>10337850</td>\n",
       "      <td>0.302061</td>\n",
       "      <td>0.438</td>\n",
       "      <td>69.1567</td>\n",
       "      <td>Feb 24, 14</td>\n",
       "      <td>0.004378</td>\n",
       "      <td>0.004378</td>\n",
       "      <td>NaN</td>\n",
       "      <td>NaN</td>\n",
       "    </tr>\n",
       "    <tr>\n",
       "      <th>AAPL.csv</th>\n",
       "      <td>2014-02-25</td>\n",
       "      <td>69.5245</td>\n",
       "      <td>69.5488</td>\n",
       "      <td>68.4239</td>\n",
       "      <td>68.5631</td>\n",
       "      <td>58247350</td>\n",
       "      <td>8321050</td>\n",
       "      <td>-0.721010</td>\n",
       "      <td>-1.041</td>\n",
       "      <td>68.9153</td>\n",
       "      <td>Feb 25, 14</td>\n",
       "      <td>-0.006074</td>\n",
       "      <td>-0.010406</td>\n",
       "      <td>NaN</td>\n",
       "      <td>NaN</td>\n",
       "    </tr>\n",
       "    <tr>\n",
       "      <th>AAPL.csv</th>\n",
       "      <td>2014-02-26</td>\n",
       "      <td>68.7667</td>\n",
       "      <td>68.9492</td>\n",
       "      <td>67.7147</td>\n",
       "      <td>67.9446</td>\n",
       "      <td>69131286</td>\n",
       "      <td>9875898</td>\n",
       "      <td>-0.618575</td>\n",
       "      <td>-0.902</td>\n",
       "      <td>68.1373</td>\n",
       "      <td>Feb 26, 14</td>\n",
       "      <td>-0.015040</td>\n",
       "      <td>-0.009021</td>\n",
       "      <td>NaN</td>\n",
       "      <td>NaN</td>\n",
       "    </tr>\n",
       "    <tr>\n",
       "      <th>AAPL.csv</th>\n",
       "      <td>2014-02-27</td>\n",
       "      <td>67.9170</td>\n",
       "      <td>69.4457</td>\n",
       "      <td>67.7738</td>\n",
       "      <td>69.2999</td>\n",
       "      <td>75557321</td>\n",
       "      <td>10793903</td>\n",
       "      <td>1.355300</td>\n",
       "      <td>1.995</td>\n",
       "      <td>68.8615</td>\n",
       "      <td>Feb 27, 14</td>\n",
       "      <td>0.004607</td>\n",
       "      <td>0.019947</td>\n",
       "      <td>NaN</td>\n",
       "      <td>NaN</td>\n",
       "    </tr>\n",
       "  </tbody>\n",
       "</table>\n",
       "</div>"
      ],
      "text/plain": [
       "                date     open     high      low    close    volume  \\\n",
       "filename                                                             \n",
       "AAPL.csv  2014-02-21  69.9727  70.2061  68.8967  68.9821  69757247   \n",
       "AAPL.csv  2014-02-24  68.7063  69.5954  68.6104  69.2841  72364950   \n",
       "AAPL.csv  2014-02-25  69.5245  69.5488  68.4239  68.5631  58247350   \n",
       "AAPL.csv  2014-02-26  68.7667  68.9492  67.7147  67.9446  69131286   \n",
       "AAPL.csv  2014-02-27  67.9170  69.4457  67.7738  69.2999  75557321   \n",
       "\n",
       "          unadjustedVolume    change  changePercent     vwap       label  \\\n",
       "filename                                                                   \n",
       "AAPL.csv           9965321 -0.774858         -1.111  69.4256  Feb 21, 14   \n",
       "AAPL.csv          10337850  0.302061          0.438  69.1567  Feb 24, 14   \n",
       "AAPL.csv           8321050 -0.721010         -1.041  68.9153  Feb 25, 14   \n",
       "AAPL.csv           9875898 -0.618575         -0.902  68.1373  Feb 26, 14   \n",
       "AAPL.csv          10793903  1.355300          1.995  68.8615  Feb 27, 14   \n",
       "\n",
       "          changeOverTime  pct_change  mean_return  variance  \n",
       "filename                                                     \n",
       "AAPL.csv        0.000000         NaN          NaN       NaN  \n",
       "AAPL.csv        0.004378    0.004378          NaN       NaN  \n",
       "AAPL.csv       -0.006074   -0.010406          NaN       NaN  \n",
       "AAPL.csv       -0.015040   -0.009021          NaN       NaN  \n",
       "AAPL.csv        0.004607    0.019947          NaN       NaN  "
      ]
     },
     "execution_count": 122,
     "metadata": {},
     "output_type": "execute_result"
    }
   ],
   "source": [
    "# Calculate percent change\n",
    "combined_df['pct_change'] = combined_df['close'].pct_change()\n",
    "\n",
    "# Calculate monthly mean return\n",
    "combined_df['mean_return'] = combined_df['close'].pct_change(periods=50) * 50\n",
    "\n",
    "# Calculate monthly variance\n",
    "combined_df['variance'] = combined_df['close'].rolling(50).var() * 50\n",
    "\n",
    "# Print the updated dataframe\n",
    "combined_df.head()"
   ]
  },
  {
   "cell_type": "code",
   "execution_count": 123,
   "id": "38aeaca2",
   "metadata": {},
   "outputs": [
    {
     "name": "stdout",
     "output_type": "stream",
     "text": [
      "<class 'pandas.core.frame.DataFrame'>\n",
      "Index: 36850 entries, AAPL.csv to XOM.csv\n",
      "Data columns (total 15 columns):\n",
      " #   Column            Non-Null Count  Dtype  \n",
      "---  ------            --------------  -----  \n",
      " 0   date              36850 non-null  object \n",
      " 1   open              36850 non-null  float64\n",
      " 2   high              36850 non-null  float64\n",
      " 3   low               36850 non-null  float64\n",
      " 4   close             36850 non-null  float64\n",
      " 5   volume            36850 non-null  int64  \n",
      " 6   unadjustedVolume  36850 non-null  int64  \n",
      " 7   change            36850 non-null  float64\n",
      " 8   changePercent     36850 non-null  float64\n",
      " 9   vwap              36850 non-null  float64\n",
      " 10  label             36850 non-null  object \n",
      " 11  changeOverTime    36850 non-null  float64\n",
      " 12  pct_change        36849 non-null  float64\n",
      " 13  mean_return       36800 non-null  float64\n",
      " 14  variance          36801 non-null  float64\n",
      "dtypes: float64(11), int64(2), object(2)\n",
      "memory usage: 4.5+ MB\n"
     ]
    }
   ],
   "source": [
    "combined_df.info()# Checking after transformations"
   ]
  },
  {
   "cell_type": "code",
   "execution_count": 124,
   "id": "25cc40ee",
   "metadata": {},
   "outputs": [
    {
     "data": {
      "text/plain": [
       "date                 0\n",
       "open                 0\n",
       "high                 0\n",
       "low                  0\n",
       "close                0\n",
       "volume               0\n",
       "unadjustedVolume     0\n",
       "change               0\n",
       "changePercent        0\n",
       "vwap                 0\n",
       "label                0\n",
       "changeOverTime       0\n",
       "pct_change           1\n",
       "mean_return         50\n",
       "variance            49\n",
       "dtype: int64"
      ]
     },
     "execution_count": 124,
     "metadata": {},
     "output_type": "execute_result"
    }
   ],
   "source": [
    "combined_df.isna().sum() # checking for na values after transformations due to rolling average and variance calculations"
   ]
  },
  {
   "cell_type": "code",
   "execution_count": 125,
   "id": "fe90b901",
   "metadata": {},
   "outputs": [],
   "source": [
    "combined_df.dropna(inplace=True) # dropping missing values permanentantely"
   ]
  },
  {
   "cell_type": "code",
   "execution_count": 126,
   "id": "8d4f9da7",
   "metadata": {},
   "outputs": [
    {
     "data": {
      "text/plain": [
       "date                0\n",
       "open                0\n",
       "high                0\n",
       "low                 0\n",
       "close               0\n",
       "volume              0\n",
       "unadjustedVolume    0\n",
       "change              0\n",
       "changePercent       0\n",
       "vwap                0\n",
       "label               0\n",
       "changeOverTime      0\n",
       "pct_change          0\n",
       "mean_return         0\n",
       "variance            0\n",
       "dtype: int64"
      ]
     },
     "execution_count": 126,
     "metadata": {},
     "output_type": "execute_result"
    }
   ],
   "source": [
    "combined_df.isna().sum() "
   ]
  },
  {
   "cell_type": "code",
   "execution_count": 127,
   "id": "b1fe75d8",
   "metadata": {},
   "outputs": [
    {
     "data": {
      "text/plain": [
       "Text(0, 0.5, 'Inertia or Sum of Squared Error - SSE')"
      ]
     },
     "execution_count": 127,
     "metadata": {},
     "output_type": "execute_result"
    },
    {
     "data": {
      "image/png": "[encoded data removed]",
      "text/plain": [
       "<Figure size 640x480 with 1 Axes>"
      ]
     },
     "metadata": {},
     "output_type": "display_data"
    }
   ],
   "source": [
    "#using elbow method to determine the number of clusters to use\n",
    "\n",
    "X = combined_df[['mean_return','variance','vwap','volume','changeOverTime', 'changePercent','change','pct_change','unadjustedVolume']].values\n",
    "inertia_list = []\n",
    "for k in range(2,10):\n",
    "    kmeans = KMeans(n_clusters = k)\n",
    "    kmeans.fit(X)\n",
    "    inertia_list.append(kmeans.inertia_)#sum of squares errors or residuals\n",
    "\n",
    "# plot of elbow method\n",
    "\n",
    "plt.plot(range(2,10), inertia_list)\n",
    "plt.title(\"Elbow Curve\")\n",
    "plt.xlabel('Number of Clusters')\n",
    "plt.ylabel('Inertia or Sum of Squared Error - SSE')\n",
    "       "
   ]
  },
  {
   "cell_type": "code",
   "execution_count": 128,
   "id": "1edc1924",
   "metadata": {},
   "outputs": [
    {
     "data": {
      "text/plain": [
       "array([3, 1, 3, ..., 0, 0, 0])"
      ]
     },
     "execution_count": 128,
     "metadata": {},
     "output_type": "execute_result"
    }
   ],
   "source": [
    "# Get and show the labels or groups for each stock:\n",
    "# Running K-means with 3 centroids\n",
    "\n",
    "kmeans = KMeans(n_clusters = 5).fit(X)\n",
    "labels = kmeans.labels_\n",
    "labels"
   ]
  },
  {
   "cell_type": "code",
   "execution_count": 129,
   "id": "cf198ab2",
   "metadata": {},
   "outputs": [
    {
     "name": "stdout",
     "output_type": "stream",
     "text": [
      "There are 5 different numbers in the array.\n"
     ]
    }
   ],
   "source": [
    "# count the number of unique elements in the array\n",
    "unique_elements = len(np.unique(labels))\n",
    "\n",
    "# print the result\n",
    "print(\"There are\", unique_elements, \"different numbers in the array.\")"
   ]
  },
  {
   "cell_type": "code",
   "execution_count": 130,
   "id": "a9c873e0",
   "metadata": {},
   "outputs": [],
   "source": [
    "# add labels to data set for stock identification\n",
    "combined_df['cluster_labels'] = labels\n"
   ]
  },
  {
   "cell_type": "code",
   "execution_count": 132,
   "id": "eb900ca9",
   "metadata": {},
   "outputs": [],
   "source": [
    "combined_df = combined_df[['cluster_labels','open','high', 'low',\n",
    "                           'close','volume','mean_return','variance','vwap','changeOverTime',\n",
    "                           'changePercent','change','pct_change','unadjustedVolume']]"
   ]
  },
  {
   "cell_type": "code",
   "execution_count": 133,
   "id": "bbd17add",
   "metadata": {},
   "outputs": [
    {
     "data": {
      "text/html": [
       "<div>\n",
       "<style scoped>\n",
       "    .dataframe tbody tr th:only-of-type {\n",
       "        vertical-align: middle;\n",
       "    }\n",
       "\n",
       "    .dataframe tbody tr th {\n",
       "        vertical-align: top;\n",
       "    }\n",
       "\n",
       "    .dataframe thead th {\n",
       "        text-align: right;\n",
       "    }\n",
       "</style>\n",
       "<table border=\"1\" class=\"dataframe\">\n",
       "  <thead>\n",
       "    <tr style=\"text-align: right;\">\n",
       "      <th></th>\n",
       "      <th>cluster_labels</th>\n",
       "      <th>open</th>\n",
       "      <th>high</th>\n",
       "      <th>low</th>\n",
       "      <th>close</th>\n",
       "      <th>volume</th>\n",
       "      <th>mean_return</th>\n",
       "      <th>variance</th>\n",
       "      <th>vwap</th>\n",
       "      <th>changeOverTime</th>\n",
       "      <th>changePercent</th>\n",
       "      <th>change</th>\n",
       "      <th>pct_change</th>\n",
       "      <th>unadjustedVolume</th>\n",
       "    </tr>\n",
       "    <tr>\n",
       "      <th>filename</th>\n",
       "      <th></th>\n",
       "      <th></th>\n",
       "      <th></th>\n",
       "      <th></th>\n",
       "      <th></th>\n",
       "      <th></th>\n",
       "      <th></th>\n",
       "      <th></th>\n",
       "      <th></th>\n",
       "      <th></th>\n",
       "      <th></th>\n",
       "      <th></th>\n",
       "      <th></th>\n",
       "      <th></th>\n",
       "    </tr>\n",
       "  </thead>\n",
       "  <tbody>\n",
       "    <tr>\n",
       "      <th>AAPL.csv</th>\n",
       "      <td>3</td>\n",
       "      <td>77.5042</td>\n",
       "      <td>78.9305</td>\n",
       "      <td>77.4858</td>\n",
       "      <td>78.9252</td>\n",
       "      <td>71766758</td>\n",
       "      <td>7.207015</td>\n",
       "      <td>442.276577</td>\n",
       "      <td>78.4390</td>\n",
       "      <td>0.144140</td>\n",
       "      <td>1.414</td>\n",
       "      <td>1.100600</td>\n",
       "      <td>0.014142</td>\n",
       "      <td>10252394</td>\n",
       "    </tr>\n",
       "    <tr>\n",
       "      <th>AAPL.csv</th>\n",
       "      <td>1</td>\n",
       "      <td>79.0355</td>\n",
       "      <td>79.3783</td>\n",
       "      <td>78.0650</td>\n",
       "      <td>78.0650</td>\n",
       "      <td>93641373</td>\n",
       "      <td>6.336880</td>\n",
       "      <td>491.681880</td>\n",
       "      <td>79.0306</td>\n",
       "      <td>0.131670</td>\n",
       "      <td>-1.090</td>\n",
       "      <td>-0.860223</td>\n",
       "      <td>-0.010899</td>\n",
       "      <td>13377339</td>\n",
       "    </tr>\n",
       "    <tr>\n",
       "      <th>AAPL.csv</th>\n",
       "      <td>3</td>\n",
       "      <td>78.1753</td>\n",
       "      <td>78.4432</td>\n",
       "      <td>77.1877</td>\n",
       "      <td>77.7918</td>\n",
       "      <td>70715988</td>\n",
       "      <td>6.730078</td>\n",
       "      <td>530.852344</td>\n",
       "      <td>77.7288</td>\n",
       "      <td>0.127710</td>\n",
       "      <td>-0.350</td>\n",
       "      <td>-0.273169</td>\n",
       "      <td>-0.003500</td>\n",
       "      <td>10102284</td>\n",
       "    </tr>\n",
       "    <tr>\n",
       "      <th>AAPL.csv</th>\n",
       "      <td>3</td>\n",
       "      <td>77.3173</td>\n",
       "      <td>78.1269</td>\n",
       "      <td>77.0741</td>\n",
       "      <td>77.2831</td>\n",
       "      <td>57574363</td>\n",
       "      <td>6.872143</td>\n",
       "      <td>556.209097</td>\n",
       "      <td>77.7606</td>\n",
       "      <td>0.120336</td>\n",
       "      <td>-0.654</td>\n",
       "      <td>-0.508697</td>\n",
       "      <td>-0.006539</td>\n",
       "      <td>8224909</td>\n",
       "    </tr>\n",
       "    <tr>\n",
       "      <th>AAPL.csv</th>\n",
       "      <td>3</td>\n",
       "      <td>76.8297</td>\n",
       "      <td>77.0544</td>\n",
       "      <td>76.2763</td>\n",
       "      <td>76.9614</td>\n",
       "      <td>72899498</td>\n",
       "      <td>5.527786</td>\n",
       "      <td>582.434771</td>\n",
       "      <td>76.6190</td>\n",
       "      <td>0.115672</td>\n",
       "      <td>-0.416</td>\n",
       "      <td>-0.321688</td>\n",
       "      <td>-0.004163</td>\n",
       "      <td>10414214</td>\n",
       "    </tr>\n",
       "  </tbody>\n",
       "</table>\n",
       "</div>"
      ],
      "text/plain": [
       "          cluster_labels     open     high      low    close    volume  \\\n",
       "filename                                                                 \n",
       "AAPL.csv               3  77.5042  78.9305  77.4858  78.9252  71766758   \n",
       "AAPL.csv               1  79.0355  79.3783  78.0650  78.0650  93641373   \n",
       "AAPL.csv               3  78.1753  78.4432  77.1877  77.7918  70715988   \n",
       "AAPL.csv               3  77.3173  78.1269  77.0741  77.2831  57574363   \n",
       "AAPL.csv               3  76.8297  77.0544  76.2763  76.9614  72899498   \n",
       "\n",
       "          mean_return    variance     vwap  changeOverTime  changePercent  \\\n",
       "filename                                                                    \n",
       "AAPL.csv     7.207015  442.276577  78.4390        0.144140          1.414   \n",
       "AAPL.csv     6.336880  491.681880  79.0306        0.131670         -1.090   \n",
       "AAPL.csv     6.730078  530.852344  77.7288        0.127710         -0.350   \n",
       "AAPL.csv     6.872143  556.209097  77.7606        0.120336         -0.654   \n",
       "AAPL.csv     5.527786  582.434771  76.6190        0.115672         -0.416   \n",
       "\n",
       "            change  pct_change  unadjustedVolume  \n",
       "filename                                          \n",
       "AAPL.csv  1.100600    0.014142          10252394  \n",
       "AAPL.csv -0.860223   -0.010899          13377339  \n",
       "AAPL.csv -0.273169   -0.003500          10102284  \n",
       "AAPL.csv -0.508697   -0.006539           8224909  \n",
       "AAPL.csv -0.321688   -0.004163          10414214  "
      ]
     },
     "execution_count": 133,
     "metadata": {},
     "output_type": "execute_result"
    }
   ],
   "source": [
    "combined_df.head()"
   ]
  },
  {
   "cell_type": "code",
   "execution_count": 144,
   "id": "be3f7d43",
   "metadata": {},
   "outputs": [
    {
     "data": {
      "image/png": "[encoded data removed]",
      "text/plain": [
       "<Figure size 640x480 with 1 Axes>"
      ]
     },
     "metadata": {},
     "output_type": "display_data"
    }
   ],
   "source": [
    "# Plotting the clusters\n",
    "plt.scatter(X[:,0],X[:,1], c = labels, cmap = \"rainbow\")\n",
    "plt.title(\"K-Means Plot\")\n",
    "plt.xlabel('Returns')\n",
    "plt.ylabel(\"Labels\")\n",
    "\n",
    "plt.show()"
   ]
  },
  {
   "cell_type": "markdown",
   "id": "564f2fc3",
   "metadata": {},
   "source": [
    "Now based on the stock labels we can choose stocks from the different clusters to ensure the stocks are different enough and avoid putting all eggs in one basket.\n",
    "The purple color dots have the stocks that have been labled 0, the red ones belong to 1 and the green belongs to label 2\n",
    "\n"
   ]
  },
  {
   "cell_type": "code",
   "execution_count": null,
   "id": "f94019ca",
   "metadata": {},
   "outputs": [],
   "source": [
    "'mean_return','variance','vwap','volume','changeOverTime', 'changePercent','change','pct_change','unadjustedVolume']]"
   ]
  },
  {
   "cell_type": "code",
   "execution_count": null,
   "id": "f989c3cc",
   "metadata": {},
   "outputs": [],
   "source": []
  }
 ],
 "metadata": {
  "kernelspec": {
   "display_name": "Python 3 (ipykernel)",
   "language": "python",
   "name": "python3"
  },
  "language_info": {
   "codemirror_mode": {
    "name": "ipython",
    "version": 3
   },
   "file_extension": ".py",
   "mimetype": "text/x-python",
   "name": "python",
   "nbconvert_exporter": "python",
   "pygments_lexer": "ipython3",
   "version": "3.9.13"
  }
 },
 "nbformat": 4,
 "nbformat_minor": 5
}
